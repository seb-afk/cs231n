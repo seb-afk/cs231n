{
 "cells": [
  {
   "cell_type": "code",
   "execution_count": null,
   "metadata": {},
   "outputs": [],
   "source": [
    "import numpy as np\n",
    "from cs231n.layer_utils import *"
   ]
  },
  {
   "cell_type": "markdown",
   "metadata": {},
   "source": [
    "# Weight initialisation\n",
    "Test on how to initialise all network weights."
   ]
  },
  {
   "cell_type": "code",
   "execution_count": null,
   "metadata": {},
   "outputs": [],
   "source": [
    "N = 8\n",
    "num_classes=3\n",
    "hidden_dims = [10, 5]\n",
    "input_dim = 2*2\n",
    "weight_scale = 1\n",
    "params = {}\n",
    "X = np.random.randn(N, input_dim)\n",
    "network_size = len(hidden_dims)\n",
    "\n",
    "params = {}\n",
    "dims = [input_dim] + hidden_dims + [num_classes]\n",
    "network_size = len(dims)\n",
    "for layer_index in range(1, network_size):\n",
    "    l_size = dims[layer_index]\n",
    "    l_size_prev = dims[layer_index-1]\n",
    "    params[\"W\"+str(layer_index)] = weight_scale * np.random.randn(l_size_prev, l_size)\n",
    "    params[\"b\"+str(layer_index)] = np.zeros(l_size)\n",
    "[l.shape for l in params.values()]"
   ]
  },
  {
   "cell_type": "markdown",
   "metadata": {},
   "source": [
    "## Why the gradient update may all positive or all negative. \n",
    "\n",
    "With a sigmoid activation function we have the problem that when the input vector to a sigmoid node is all positive the weight updates will also be all positive. In other words the sign of the gradient vector is the same for all its components. This leads to zig zag weight updates. See lecture 6.\n"
   ]
  },
  {
   "cell_type": "code",
   "execution_count": null,
   "metadata": {},
   "outputs": [],
   "source": [
    "import numpy as np\n",
    "import matplotlib.pyplot as plt\n",
    "\n",
    "def sigmoid(x):\n",
    "    return 1/(1+np.exp(-x))\n",
    "\n",
    "x = np.linspace(-10, 10)\n",
    "plt.plot(sigmoid(x))\n",
    "plt.show()\n",
    "\n",
    "\n",
    "d = 2\n",
    "n =1\n",
    "h = 3\n",
    "ws = 1e-2\n",
    "result = list()\n",
    "dws = list()\n",
    "for i in range(10000):\n",
    "    x = np.random.randn(n,d)\n",
    "    w1 = ws * np.random.randn(d,h)\n",
    "    b1 = 0\n",
    "    z1 = x.dot(w1) + b1\n",
    "    a1 = sigmoid(z1)\n",
    "    dw = x.T.dot(sigmoid(a1) * (1-sigmoid(a1)))\n",
    "    if len(dw[dw > 0] == len(dw)):\n",
    "        result.append(True)\n",
    "        dws.append(dw)\n",
    "    elif len(dw[dw < 0] == len(dw)):\n",
    "        result.append(False)\n",
    "        dws.append(dw)\n",
    "\n",
    "print(x, w1, z1, a1, dw, sep=\"\\n\\n\")\n",
    "print(sum(result))"
   ]
  },
  {
   "cell_type": "markdown",
   "metadata": {},
   "source": [
    "## Weight initialisation"
   ]
  },
  {
   "cell_type": "code",
   "execution_count": null,
   "metadata": {},
   "outputs": [],
   "source": [
    "import numpy as np\n",
    "import seaborn as sns\n",
    "\n",
    "a = np.tanh(np.random.randn(1000,1) * 10)\n",
    "print(np.mean(a), np.std(a))"
   ]
  },
  {
   "cell_type": "code",
   "execution_count": null,
   "metadata": {},
   "outputs": [],
   "source": [
    "from numpy.random import uniform\n",
    "for i in range(10):\n",
    "    print(10**uniform(-3,-6))"
   ]
  },
  {
   "cell_type": "markdown",
   "metadata": {},
   "source": [
    "# Adam"
   ]
  },
  {
   "cell_type": "code",
   "execution_count": null,
   "metadata": {},
   "outputs": [],
   "source": [
    "import numpy as np\n",
    "\n",
    "np.sqrt(-1)"
   ]
  },
  {
   "cell_type": "markdown",
   "metadata": {},
   "source": [
    "# CNN backwardpass"
   ]
  },
  {
   "cell_type": "code",
   "execution_count": 116,
   "metadata": {},
   "outputs": [],
   "source": [
    "import numpy as np\n",
    "from cs231n.layers import conv_forward_naive\n",
    "np.random.seed(231)\n",
    "x = np.random.randn(2, 3, 5, 5)\n",
    "w = np.random.randn(4, 3, 3, 3)\n",
    "b = np.random.randn(1,)\n",
    "dout = np.random.randn(2, 4, 5, 5)\n",
    "conv_param = {'stride': 1, 'pad': 1}\n",
    "pad = 1\n",
    "stride = 1\n",
    "f_spatial_ext = 3"
   ]
  },
  {
   "cell_type": "code",
   "execution_count": 117,
   "metadata": {},
   "outputs": [
    {
     "data": {
      "text/plain": [
       "(2, 4, 5, 5)"
      ]
     },
     "execution_count": 117,
     "metadata": {},
     "output_type": "execute_result"
    }
   ],
   "source": [
    "out, cache = conv_forward_naive(x, w, b, conv_param)\n",
    "out.shape"
   ]
  },
  {
   "cell_type": "code",
   "execution_count": 103,
   "metadata": {},
   "outputs": [
    {
     "data": {
      "text/plain": [
       "(2, 3, 5, 5)"
      ]
     },
     "execution_count": 103,
     "metadata": {},
     "output_type": "execute_result"
    }
   ],
   "source": [
    "x.squeeze().shape"
   ]
  },
  {
   "cell_type": "code",
   "execution_count": 119,
   "metadata": {},
   "outputs": [
    {
     "name": "stdout",
     "output_type": "stream",
     "text": [
      "(2, 3, 5, 5) (2, 3, 5, 5)\n"
     ]
    }
   ],
   "source": [
    "x = x.squeeze()\n",
    "w = w.squeeze()\n",
    "n, channels, height , width = x.shape\n",
    "dx = np.ones(shape=(n, channels, width+2*pad, height+2*pad))\n",
    "i = 0\n",
    "doutrs = dout.reshape(-1)\n",
    "for img_ix in range(n):\n",
    "    for h_ix in range(0, height, stride):\n",
    "        for w_ix in range(0, width, stride):\n",
    "            for ch_ix in range(channels):\n",
    "                dx[img_ix, ch_ix, h_ix:h_ix+f_spatial_ext, w_ix:w_ix+f_spatial_ext] = (w[:,ch_ix] * doutrs[i]).sum(axis=(0))\n",
    "            i += 1\n",
    "\n",
    "dx = dx[:,:,1:height+1,1:width+1]\n",
    "print(x.shape, dx.shape)"
   ]
  },
  {
   "cell_type": "code",
   "execution_count": null,
   "metadata": {},
   "outputs": [],
   "source": []
  }
 ],
 "metadata": {
  "kernelspec": {
   "display_name": "Python 3",
   "language": "python",
   "name": "python3"
  },
  "language_info": {
   "codemirror_mode": {
    "name": "ipython",
    "version": 3
   },
   "file_extension": ".py",
   "mimetype": "text/x-python",
   "name": "python",
   "nbconvert_exporter": "python",
   "pygments_lexer": "ipython3",
   "version": "3.7.1"
  }
 },
 "nbformat": 4,
 "nbformat_minor": 2
}
