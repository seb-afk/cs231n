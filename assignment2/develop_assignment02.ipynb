{
 "cells": [
  {
   "cell_type": "code",
   "execution_count": 1,
   "metadata": {},
   "outputs": [],
   "source": [
    "import numpy as np\n",
    "from cs231n.layer_utils import *"
   ]
  },
  {
   "cell_type": "code",
   "execution_count": 30,
   "metadata": {},
   "outputs": [],
   "source": [
    "N = 8\n",
    "num_classes=3\n",
    "hidden_dims = [10, 5]\n",
    "input_dim = 2*2\n",
    "weight_scale = 1\n",
    "params = {}\n",
    "X = np.random.randn(N, input_dim)\n",
    "network_size = len(hidden_dims)"
   ]
  },
  {
   "cell_type": "code",
   "execution_count": 19,
   "metadata": {},
   "outputs": [
    {
     "name": "stdout",
     "output_type": "stream",
     "text": [
      "(4, 10)\n",
      "(10,)\n",
      "(10, 5)\n",
      "(5,)\n"
     ]
    }
   ],
   "source": [
    "params = {}\n",
    "params[\"W1\"] = weight_scale * np.random.randn(input_dim, hidden_dims[0])\n",
    "params[\"b1\"] = np.zeros(hidden_dims[0])\n",
    "\n",
    "for l_idx, _ in enumerate(hidden_dims[:-1]):\n",
    "    l_size = hidden_dims[l_idx+1]\n",
    "    l_size_prev = hidden_dims[l_idx]\n",
    "    params[\"W\"+str(l_idx+2)] = weight_scale * np.random.randn(l_size_prev, l_size)\n",
    "    params[\"b\"+str(l_idx+2)] = np.zeros(l_size)\n",
    "    \n",
    "for i in params.values():\n",
    "    print(i.shape)"
   ]
  },
  {
   "cell_type": "code",
   "execution_count": null,
   "metadata": {},
   "outputs": [],
   "source": []
  },
  {
   "cell_type": "code",
   "execution_count": 34,
   "metadata": {},
   "outputs": [
    {
     "name": "stdout",
     "output_type": "stream",
     "text": [
      "W1 (4, 10)\n",
      "b1 (10,)\n",
      "W2 (10, 5)\n",
      "b2 (5,)\n",
      "W3 (5, 3)\n",
      "b3 (3,)\n"
     ]
    }
   ],
   "source": [
    "self.params = {}\n",
    "dims = [self.input_dim] + self.hidden_dims + [self.num_classes]\n",
    "network_size = len(dims)\n",
    "for layer_index in range(1, network_size):\n",
    "    l_size = dims[layer_index]\n",
    "    l_size_prev = dims[layer_index-1]\n",
    "    self.params[\"W\"+str(layer_index)] = weight_scale * np.random.randn(l_size_prev, l_size)\n",
    "    self.params[\"b\"+str(layer_index)] = np.zeros(l_size)\n",
    "\n"
   ]
  },
  {
   "cell_type": "code",
   "execution_count": 44,
   "metadata": {},
   "outputs": [
    {
     "name": "stdout",
     "output_type": "stream",
     "text": [
      "1 4\n",
      "2 4\n"
     ]
    }
   ],
   "source": [
    "activation = X\n",
    "network_size = len(dims)\n",
    "cache_list = list()\n",
    "\n",
    "# [AFFINE->RELU]*(L-1) \n",
    "for layer_index in range(1, network_size-1):\n",
    "    print(layer_index, network_size)\n",
    "    activation_prev = activation\n",
    "    activation, cache = affine_relu_forward(activation_prev, \n",
    "                                            params[\"W\"+str(layer_index)],\n",
    "                                            params[\"b\"+str(layer_index)])\n",
    "    cache_list.append(cache)\n",
    "\n",
    "scores, _ = affine_forward(activation,\n",
    "                        params[\"W\"+str(network_size-1)],\n",
    "                        params[\"b\"+str(network_size-1)])"
   ]
  },
  {
   "cell_type": "code",
   "execution_count": 46,
   "metadata": {},
   "outputs": [
    {
     "data": {
      "text/plain": [
       "(8, 3)"
      ]
     },
     "execution_count": 46,
     "metadata": {},
     "output_type": "execute_result"
    }
   ],
   "source": [
    "scores.shape"
   ]
  },
  {
   "cell_type": "code",
   "execution_count": null,
   "metadata": {},
   "outputs": [],
   "source": []
  }
 ],
 "metadata": {
  "kernelspec": {
   "display_name": "Python 3",
   "language": "python",
   "name": "python3"
  },
  "language_info": {
   "codemirror_mode": {
    "name": "ipython",
    "version": 3
   },
   "file_extension": ".py",
   "mimetype": "text/x-python",
   "name": "python",
   "nbconvert_exporter": "python",
   "pygments_lexer": "ipython3",
   "version": "3.6.5"
  }
 },
 "nbformat": 4,
 "nbformat_minor": 2
}
