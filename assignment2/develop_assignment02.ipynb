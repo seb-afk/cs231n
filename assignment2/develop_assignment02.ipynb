{
 "cells": [
  {
   "cell_type": "code",
   "execution_count": 7,
   "metadata": {},
   "outputs": [],
   "source": [
    "import numpy as np\n",
    "from cs231n.layer_utils import *"
   ]
  },
  {
   "cell_type": "code",
   "execution_count": 20,
   "metadata": {},
   "outputs": [
    {
     "data": {
      "text/plain": [
       "(8, 4)"
      ]
     },
     "execution_count": 20,
     "metadata": {},
     "output_type": "execute_result"
    }
   ],
   "source": [
    "N = 8\n",
    "hidden_dims = [10, 5, 3]\n",
    "input_dim = 2*2\n",
    "weight_scale = 1\n",
    "params = {}\n",
    "X = np.random.randn(N, input_dim)\n",
    "X.shape"
   ]
  },
  {
   "cell_type": "code",
   "execution_count": 51,
   "metadata": {},
   "outputs": [
    {
     "name": "stdout",
     "output_type": "stream",
     "text": [
      "(4, 10)\n",
      "(10,)\n",
      "(10, 5)\n",
      "(5,)\n",
      "(5, 3)\n",
      "(3,)\n"
     ]
    }
   ],
   "source": [
    "params[\"W1\"] = weight_scale * np.random.randn(input_dim, hidden_dims[0])\n",
    "params[\"b1\"] = np.zeros(hidden_dims[0])\n",
    "\n",
    "for l_idx, _ in enumerate(hidden_dims[:-1]):\n",
    "    l_size = hidden_dims[l_idx+1]\n",
    "    l_size_prev = hidden_dims[l_idx]\n",
    "    params[\"W\"+str(l_idx+2)] = weight_scale * np.random.randn(l_size_prev, l_size)\n",
    "    params[\"b\"+str(l_idx+2)] = np.zeros(l_size)\n",
    "for i in params.values():\n",
    "    print(i.shape)"
   ]
  },
  {
   "cell_type": "code",
   "execution_count": null,
   "metadata": {},
   "outputs": [],
   "source": [
    "\n",
    "self.params[\"W1\"] = weight_scale * np.random.randn(input_dim, hidden_dims[0])\n",
    "self.params[\"b1\"] = np.zeros(hidden_dims[0])\n",
    "\n",
    "for l_idx, _ in enumerate(hidden_dims[:-1]):\n",
    "    l_size = hidden_dims[l_idx+1]\n",
    "    l_size_prev = hidden_dims[l_idx]\n",
    "    self.params[\"W\"+str(l_idx+2)] = weight_scale * np.random.randn(l_size_prev, l_size)\n",
    "    self.params[\"b\"+str(l_idx+2)] = np.zeros(l_size)"
   ]
  },
  {
   "cell_type": "code",
   "execution_count": 52,
   "metadata": {},
   "outputs": [
    {
     "name": "stdout",
     "output_type": "stream",
     "text": [
      "(8, 4) (4, 10)\n"
     ]
    }
   ],
   "source": [
    "print(X.shape, params[\"W1\"].shape)"
   ]
  },
  {
   "cell_type": "code",
   "execution_count": 65,
   "metadata": {},
   "outputs": [
    {
     "name": "stdout",
     "output_type": "stream",
     "text": [
      "1 3\n",
      "2 3\n"
     ]
    }
   ],
   "source": [
    "activation = X\n",
    "network_size = len(hidden_dims)\n",
    "cache_list = list()\n",
    "\n",
    "# [AFFINE->RELU]*(L-1) \n",
    "for layer_index in range(1, network_size):\n",
    "    print(layer_index, network_size)\n",
    "    activation_prev = activation\n",
    "    activation, cache = affine_relu_forward(activation_prev, \n",
    "                                            params[\"W\"+str(layer_index)],\n",
    "                                            params[\"b\"+str(layer_index)])\n",
    "    cache_list.append(cache)\n"
   ]
  },
  {
   "cell_type": "code",
   "execution_count": 64,
   "metadata": {},
   "outputs": [
    {
     "data": {
      "text/plain": [
       "dict_keys(['W1', 'b1', 'W2', 'b2', 'W3', 'b3'])"
      ]
     },
     "execution_count": 64,
     "metadata": {},
     "output_type": "execute_result"
    }
   ],
   "source": [
    "params.keys()"
   ]
  },
  {
   "cell_type": "code",
   "execution_count": null,
   "metadata": {},
   "outputs": [],
   "source": []
  }
 ],
 "metadata": {
  "kernelspec": {
   "display_name": "Python 3",
   "language": "python",
   "name": "python3"
  },
  "language_info": {
   "codemirror_mode": {
    "name": "ipython",
    "version": 3
   },
   "file_extension": ".py",
   "mimetype": "text/x-python",
   "name": "python",
   "nbconvert_exporter": "python",
   "pygments_lexer": "ipython3",
   "version": "3.6.5"
  }
 },
 "nbformat": 4,
 "nbformat_minor": 2
}
