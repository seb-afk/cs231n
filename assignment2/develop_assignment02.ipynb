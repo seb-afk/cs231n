{
 "cells": [
  {
   "cell_type": "code",
   "execution_count": 5,
   "metadata": {},
   "outputs": [],
   "source": [
    "import numpy as np\n",
    "from cs231n.layer_utils import *"
   ]
  },
  {
   "cell_type": "markdown",
   "metadata": {},
   "source": [
    "# Weight initialisation\n",
    "Test on how to initialise all network weights."
   ]
  },
  {
   "cell_type": "code",
   "execution_count": 40,
   "metadata": {},
   "outputs": [
    {
     "data": {
      "text/plain": [
       "[(4, 10), (10,), (10, 5), (5,), (5, 3), (3,)]"
      ]
     },
     "execution_count": 40,
     "metadata": {},
     "output_type": "execute_result"
    }
   ],
   "source": [
    "N = 8\n",
    "num_classes=3\n",
    "hidden_dims = [10, 5]\n",
    "input_dim = 2*2\n",
    "weight_scale = 1\n",
    "params = {}\n",
    "X = np.random.randn(N, input_dim)\n",
    "network_size = len(hidden_dims)\n",
    "\n",
    "params = {}\n",
    "dims = [input_dim] + hidden_dims + [num_classes]\n",
    "network_size = len(dims)\n",
    "for layer_index in range(1, network_size):\n",
    "    l_size = dims[layer_index]\n",
    "    l_size_prev = dims[layer_index-1]\n",
    "    params[\"W\"+str(layer_index)] = weight_scale * np.random.randn(l_size_prev, l_size)\n",
    "    params[\"b\"+str(layer_index)] = np.zeros(l_size)\n",
    "[l.shape for l in params.values()]"
   ]
  },
  {
   "cell_type": "markdown",
   "metadata": {},
   "source": [
    "## Why the gradient update may all positive or all negative. \n",
    "\n",
    "With a sigmoid activation function we have the problem that when the input vector to a sigmoid node is all positive the weight updates will also be all positive. In other words the sign of the gradient vector is the same for all its components. This leads to zig zag weight updates. See lecture 6.\n"
   ]
  },
  {
   "cell_type": "code",
   "execution_count": 39,
   "metadata": {},
   "outputs": [
    {
     "name": "stdout",
     "output_type": "stream",
     "text": [
      "[[-0.57230354  1.75349343]]\n",
      "\n",
      "[[ 0.03240976 -0.00220158  0.00569603]\n",
      " [-0.00745333 -0.00614806  0.00798578]]\n",
      "\n",
      "[[-0.03161758 -0.00952061  0.01074316]]\n",
      "\n",
      "[[0.49209626 0.49761987 0.50268577]]\n",
      "\n",
      "[[-0.13475208 -0.1345717  -0.13440479]\n",
      " [ 0.41286986  0.4123172   0.41180579]]\n",
      "7511\n"
     ]
    }
   ],
   "source": [
    "import numpy as np\n",
    "import matplotlib.pyplot as plt\n",
    "\n",
    "def sigmoid(x):\n",
    "    return 1/(1+np.exp(-x))\n",
    "\n",
    "x = np.linspace(-10, 10)\n",
    "plt.plot(sigmoid(x))\n",
    "plt.show()\n",
    "\n",
    "\n",
    "d = 2\n",
    "n =1\n",
    "h = 3\n",
    "ws = 1e-2\n",
    "result = list()\n",
    "dws = list()\n",
    "for i in range(10000):\n",
    "    x = np.random.randn(n,d)\n",
    "    w1 = ws * np.random.randn(d,h)\n",
    "    b1 = 0\n",
    "    z1 = x.dot(w1) + b1\n",
    "    a1 = sigmoid(z1)\n",
    "    dw = x.T.dot(sigmoid(a1) * (1-sigmoid(a1)))\n",
    "    if len(dw[dw > 0] == len(dw)):\n",
    "        result.append(True)\n",
    "        dws.append(dw)\n",
    "    elif len(dw[dw < 0] == len(dw)):\n",
    "        result.append(False)\n",
    "        dws.append(dw)\n",
    "\n",
    "print(x, w1, z1, a1, dw, sep=\"\\n\\n\")\n",
    "print(sum(result))"
   ]
  },
  {
   "cell_type": "markdown",
   "metadata": {},
   "source": [
    "## Weight initialisation"
   ]
  },
  {
   "cell_type": "code",
   "execution_count": 16,
   "metadata": {},
   "outputs": [
    {
     "name": "stdout",
     "output_type": "stream",
     "text": [
      "-0.0023178973172205382 0.9692424334644353\n"
     ]
    }
   ],
   "source": [
    "import numpy as np\n",
    "import seaborn as sns\n",
    "\n",
    "a = np.tanh(np.random.randn(1000,1) * 10)\n",
    "print(np.mean(a), np.std(a))"
   ]
  },
  {
   "cell_type": "code",
   "execution_count": 27,
   "metadata": {},
   "outputs": [
    {
     "name": "stdout",
     "output_type": "stream",
     "text": [
      "0.00038303892339165214\n",
      "5.453555697064419e-05\n",
      "3.419691108677078e-06\n",
      "0.00014452196415636333\n",
      "4.550046702347725e-06\n",
      "1.3286976401643098e-06\n",
      "2.5425871027502573e-06\n",
      "3.323537663510148e-06\n",
      "4.181725250328e-06\n",
      "0.00011574019499552648\n"
     ]
    }
   ],
   "source": [
    "from numpy.random import uniform\n",
    "for i in range(10):\n",
    "    print(10**uniform(-3,-6))"
   ]
  },
  {
   "cell_type": "markdown",
   "metadata": {},
   "source": [
    "# Adam"
   ]
  },
  {
   "cell_type": "code",
   "execution_count": 3,
   "metadata": {},
   "outputs": [
    {
     "name": "stderr",
     "output_type": "stream",
     "text": [
      "/home/sebastian/anaconda3/lib/python3.6/site-packages/ipykernel_launcher.py:3: RuntimeWarning: invalid value encountered in sqrt\n",
      "  This is separate from the ipykernel package so we can avoid doing imports until\n"
     ]
    },
    {
     "data": {
      "text/plain": [
       "nan"
      ]
     },
     "execution_count": 3,
     "metadata": {},
     "output_type": "execute_result"
    }
   ],
   "source": [
    "import numpy as np\n",
    "\n",
    "np.sqrt(-1)"
   ]
  },
  {
   "cell_type": "code",
   "execution_count": null,
   "metadata": {},
   "outputs": [],
   "source": []
  },
  {
   "cell_type": "code",
   "execution_count": null,
   "metadata": {},
   "outputs": [],
   "source": []
  },
  {
   "cell_type": "code",
   "execution_count": null,
   "metadata": {},
   "outputs": [],
   "source": []
  },
  {
   "cell_type": "code",
   "execution_count": null,
   "metadata": {},
   "outputs": [],
   "source": []
  },
  {
   "cell_type": "code",
   "execution_count": null,
   "metadata": {},
   "outputs": [],
   "source": []
  },
  {
   "cell_type": "code",
   "execution_count": null,
   "metadata": {},
   "outputs": [],
   "source": []
  },
  {
   "cell_type": "code",
   "execution_count": null,
   "metadata": {},
   "outputs": [],
   "source": []
  },
  {
   "cell_type": "code",
   "execution_count": null,
   "metadata": {},
   "outputs": [],
   "source": []
  },
  {
   "cell_type": "code",
   "execution_count": null,
   "metadata": {},
   "outputs": [],
   "source": []
  },
  {
   "cell_type": "code",
   "execution_count": null,
   "metadata": {},
   "outputs": [],
   "source": []
  }
 ],
 "metadata": {
  "kernelspec": {
   "display_name": "Python 3",
   "language": "python",
   "name": "python3"
  },
  "language_info": {
   "codemirror_mode": {
    "name": "ipython",
    "version": 3
   },
   "file_extension": ".py",
   "mimetype": "text/x-python",
   "name": "python",
   "nbconvert_exporter": "python",
   "pygments_lexer": "ipython3",
   "version": "3.6.5"
  }
 },
 "nbformat": 4,
 "nbformat_minor": 2
}
